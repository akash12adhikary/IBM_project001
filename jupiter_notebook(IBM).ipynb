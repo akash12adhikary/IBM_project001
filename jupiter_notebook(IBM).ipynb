{
    "cells": [
        {
            "metadata": {
                "collapsed": true
            },
            "cell_type": "markdown",
            "source": "# My Jupyter Notebook on IBM Watson Studio"
        },
        {
            "metadata": {},
            "cell_type": "markdown",
            "source": "**Akash Adhikary**\n\nUndergraduate student"
        },
        {
            "metadata": {},
            "cell_type": "markdown",
            "source": "*I am interested in data science because i want to help organization by analysing data*"
        },
        {
            "metadata": {},
            "cell_type": "markdown",
            "source": "### The following code will add two numbers and display the result"
        },
        {
            "metadata": {},
            "cell_type": "code",
            "source": "2+3",
            "execution_count": 2,
            "outputs": [
                {
                    "output_type": "execute_result",
                    "execution_count": 2,
                    "data": {
                        "text/plain": "5"
                    },
                    "metadata": {}
                }
            ]
        },
        {
            "metadata": {},
            "cell_type": "markdown",
            "source": "<http://www.google.com>\n\n\n\n\n\n\n* India\n* Pakistan\n* Srilanka\n* Bangladesh\n* Afganistan\n\n\nName   |Subject   |Marks\n---   |----|-----|\nAkash |Maths |70\nsubham|physics|80\nRahul |biology|65"
        },
        {
            "metadata": {},
            "cell_type": "code",
            "source": "",
            "execution_count": null,
            "outputs": []
        }
    ],
    "metadata": {
        "kernelspec": {
            "name": "python3",
            "display_name": "Python 3.6",
            "language": "python"
        },
        "language_info": {
            "name": "python",
            "version": "3.6.9",
            "mimetype": "text/x-python",
            "codemirror_mode": {
                "name": "ipython",
                "version": 3
            },
            "pygments_lexer": "ipython3",
            "nbconvert_exporter": "python",
            "file_extension": ".py"
        }
    },
    "nbformat": 4,
    "nbformat_minor": 1
}